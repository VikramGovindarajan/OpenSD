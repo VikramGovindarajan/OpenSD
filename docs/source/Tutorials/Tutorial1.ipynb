{
 "cells": [
  {
   "cell_type": "markdown",
   "id": "f7a48bbb-b4b7-4cd6-a0e6-1409ab3965dd",
   "metadata": {},
   "source": [
    "# Tutorial 1: Steady State Flow Distribution in a Water Network\n",
    "## Problem Description\n",
    "A flow circuit as shown in Figure 1 filled with water is considered. The flow distribution in the network must be estimated for the given boundary conditions. Hazen Williams equation is to be used for friction loss estimation in the pipes.\n",
    "<figure>\n",
    "<img src=\"tutorial1.png\" style=\"width:50%\">\n",
    "<figcaption align = \"center\"> Figure 1: Schematic of the Flow Circuit </figcaption>\n",
    "</figure>"
   ]
  },
  {
   "cell_type": "markdown",
   "id": "c0554282-8d1f-4ba7-9d41-337b7b5f5e2b",
   "metadata": {},
   "source": [
    "## Steps for input file creation\n",
    "Assign node and pipe numbering. An example numbering is shown below: \n",
    "<figure>\n",
    "<img src=\"tutorial1-2.png\" style=\"width:35%\" title=\"Numbering Scheme\">\n",
    "</figure>\n",
    "(Note that the directions indicated in the figure are only assumed directions. If the actual direction is the opposite of the assumed direction, negative flow rate values will be obtained in the results.)"
   ]
  },
  {
   "cell_type": "markdown",
   "id": "1b3dc5e6-e6be-4b46-96ec-f3e26128c55c",
   "metadata": {},
   "source": [
    "In the input file, create a new flow circuit and assign fluid to the circuit with the following commands:"
   ]
  },
  {
   "cell_type": "code",
   "execution_count": null,
   "id": "9290e030-a993-4a07-aeb2-0baa274661c0",
   "metadata": {},
   "outputs": [],
   "source": [
    "circuit1 = comp.Circuit(\"circuit1\")\n",
    "circuit1.assign_fluid(\"water1\",\"User\")"
   ]
  },
  {
   "cell_type": "markdown",
   "id": "bfeb0906-3607-4fa6-8a9f-97aa0c84c509",
   "metadata": {},
   "source": [
    "Note user defined fluid library is used here for defining water properties. User-defined fluid “water1.py” must be present in the working directory. Instead, a fluid in CoolProp or thiravam library can also be used."
   ]
  },
  {
   "cell_type": "code",
   "execution_count": null,
   "id": "6cfbd10d-734a-4f2b-8d06-205eb34f7ffb",
   "metadata": {},
   "outputs": [],
   "source": []
  }
 ],
 "metadata": {
  "kernelspec": {
   "display_name": "Python 3 (ipykernel)",
   "language": "python",
   "name": "python3"
  },
  "language_info": {
   "codemirror_mode": {
    "name": "ipython",
    "version": 3
   },
   "file_extension": ".py",
   "mimetype": "text/x-python",
   "name": "python",
   "nbconvert_exporter": "python",
   "pygments_lexer": "ipython3",
   "version": "3.11.7"
  }
 },
 "nbformat": 4,
 "nbformat_minor": 5
}

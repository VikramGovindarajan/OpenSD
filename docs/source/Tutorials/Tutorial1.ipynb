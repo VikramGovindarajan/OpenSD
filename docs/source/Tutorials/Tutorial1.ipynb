{
 "cells": [
  {
   "cell_type": "code",
   "execution_count": 1,
   "id": "bd41ee69-89a4-4711-834f-583966347aef",
   "metadata": {},
   "outputs": [],
   "source": ["import math"]
  },

  {
   "cell_type": "code",
   "execution_count": null,
   "id": "04377010-1c35-4efa-a3fa-bf8df6572929",
   "metadata": {},
   "outputs": [],
   "source": []
  }
 ],
 
 "metadata": {
  "kernelspec": {
     "display_name": "Python 3 (ipykernel)",
     "language": "python",
     "name": "python3"
  },
  
  "language_info": {
   "codemirror_mode": {
    "name": "ipython",
    "version": 3
   },
   "file_extension": ".py",
   "mimetype": "text/x-python",
   "name": "python",
   "nbconvert_exporter": "python",
   "pygments_lexer": "ipython3",
   "version": "3.11.7"
  }
 },
 "nbformat": 4,
 "nbformat_minor": 5
}

{
 "cells": [
  {
   "cell_type": "markdown",
   "id": "f7a48bbb-b4b7-4cd6-a0e6-1409ab3965dd",
   "metadata": {},
   "source": [
    "# Tutorial 1: Steady State Flow Distribution in a Water Network\n",
    "## Problem Description\n",
    "A flow circuit as shown in Figure 1 filled with water is considered. The flow distribution in the network must be estimated for the given boundary conditions. Hazen Williams equation is to be used for friction loss estimation in the pipes.\n",
    "<figure>\n",
    "<img src=\"tutorial1.png\" style=\"width:50%\">\n",
    "<figcaption align = \"center\"> Figure 1: Schematic of the Flow Circuit </figcaption>\n",
    "</figure>"
   ]
  },
  {
   "cell_type": "markdown",
   "id": "e51f8d67",
   "metadata": {},
   "source": [
    "## Steps for input file creation\n",
    "Assign node and pipe numbering. An example numbering is shown below: \n",
    "<figure>\n",
    "<img src=\"tutorial1-2.png\" style=\"width:35%\" title=\"Numbering Scheme\">\n",
    "</figure>\n",
    "(Note that the directions indicated in the figure are only assumed directions. If the actual direction is the opposite of the assumed direction, negative flow rate values will be obtained in the results.)"
   ]
  },
  {
   "cell_type": "markdown",
   "id": "1b3dc5e6-e6be-4b46-96ec-f3e26128c55c",
   "metadata": {},
   "source": [
    "In the input file, create a new flow circuit and assign fluid to the circuit with the following commands:"
   ]
  },
  {
   "cell_type": "code",
   "execution_count": null,
   "id": "f95a52c9",
   "metadata": {},
   "outputs": [],
   "source": [
    "import opensd\n",
    "circuit1 = opensd.Circuit(identifier=\"circuit1\")\n",
    "circuit1.assign_fluid(\"water\")"
   ]
  },
  {
   "cell_type": "markdown",
   "id": "bfeb0906-3607-4fa6-8a9f-97aa0c84c509",
   "metadata": {},
   "source": [
    "Note user defined fluid library is used here for defining water properties. User-defined fluid “water1.py” must be present in the working directory. Instead, a fluid in CoolProp or thiravam library can also be used."
   ]
  },
  {
   "cell_type": "markdown",
   "id": "b2708e48-a807-43b2-8b40-95d2a7975fac",
   "metadata": {},
   "source": [
    "Add nodes to the circuit with the following commands: (Note that 12 nodes are required for this problem.)"
   ]
  },
  {
   "cell_type": "code",
   "execution_count": null,
   "id": "9823101c-7985-4e14-a4b3-c04b72af390b",
   "metadata": {},
   "outputs": [],
   "source": [
    "node1 = circuit1.add_node(\"node1\")\n",
    "node2 = circuit1.add_node(\"node2\")\n",
    "node3 = circuit1.add_node(\"node3\")\n",
    "node4 = circuit1.add_node(\"node4\")\n",
    "node5 = circuit1.add_node(\"node5\")\n",
    "node6 = circuit1.add_node(\"node6\")\n",
    "node7 = circuit1.add_node(\"node7\")\n",
    "node8 = circuit1.add_node(\"node8\")\n",
    "node9 = circuit1.add_node(\"node9\")\n",
    "node10 = circuit1.add_node(\"node10\")\n",
    "node11 = circuit1.add_node(\"node11\")\n",
    "node12 = circuit1.add_node(\"node12\")"
   ]
  },
  {
   "cell_type": "markdown",
   "id": "4f3d5243",
   "metadata": {},
   "source": [
    "Add pipes to the circuit with following commands:"
   ]
  },
  {
   "cell_type": "code",
   "execution_count": null,
   "id": "0b2560df",
   "metadata": {},
   "outputs": [],
   "source": [
    "pipe1 =circuit1.add_pipe(\"pipe1\", 0.305,457.2,\"node1\", \"node2\", 'HW',130.,1)\n",
    "pipe2 =circuit1.add_pipe(\"pipe2\", 0.203,304.8,\"node2\", \"node3\", 'HW',130.,1)\n",
    "pipe3 =circuit1.add_pipe(\"pipe3\", 0.203,365.8,\"node3\", \"node4\", 'HW',120.,1)\n",
    "pipe4 =circuit1.add_pipe(\"pipe4\", 0.203,609.6,\"node4\", \"node5\", 'HW',120.,1)\n",
    "pipe5 =circuit1.add_pipe(\"pipe5\", 0.203,853.4,\"node6\", \"node5\", 'HW',120.,1)\n",
    "pipe6 =circuit1.add_pipe(\"pipe6\", 0.203,335.3,\"node7\", \"node6\", 'HW',120.,1)\n",
    "pipe7 =circuit1.add_pipe(\"pipe7\", 0.203,304.8,\"node8\", \"node7\", 'HW',120.,1)\n",
    "pipe8 =circuit1.add_pipe(\"pipe8\", 0.203,762.0,\"node9\", \"node8\", 'HW',120.,1)\n",
    "pipe9 =circuit1.add_pipe(\"pipe9\", 0.203,243.8,\"node1\", \"node9\", 'HW',100.,1)\n",
    "pipe10=circuit1.add_pipe(\"pipe10\",0.152,396.2,\"node9\", \"node10\",'HW',100.,1)\n",
    "pipe11=circuit1.add_pipe(\"pipe11\",0.152,304.8,\"node10\",\"node11\",'HW',100.,1)\n",
    "pipe12=circuit1.add_pipe(\"pipe12\",0.254,335.3,\"node11\",\"node12\",'HW',130.,1)\n",
    "pipe13=circuit1.add_pipe(\"pipe13\",0.254,304.8,\"node12\",\"node5\", 'HW',130.,1)\n",
    "pipe14=circuit1.add_pipe(\"pipe14\",0.152,548.6,\"node10\",\"node8\", 'HW',120.,1)\n",
    "pipe15=circuit1.add_pipe(\"pipe15\",0.152,335.3,\"node2\",\"node10\", 'HW',120.,1)\n",
    "pipe16=circuit1.add_pipe(\"pipe16\",0.152,548.6,\"node11\",\"node7\", 'HW',120.,1)\n",
    "pipe17=circuit1.add_pipe(\"pipe17\",0.254,365.9,\"node3\",\"node11\", 'HW',130.,1)\n",
    "pipe18=circuit1.add_pipe(\"pipe18\",0.152,548.6,\"node12\",\"node6\", 'HW',120.,1)\n",
    "pipe19=circuit1.add_pipe(\"pipe19\",0.152,396.2,\"node4\",\"node12\", 'HW',120.,1)"
   ]
  },
  {
   "cell_type": "markdown",
   "id": "a8d92802",
   "metadata": {},
   "source": [
    "Note that the pipe geometry data is used in these commands. Only 1 increment is used for all the pipes since only steady state flow distribution is required. 19 pipes are required to be added for the current problem."
   ]
  },
  {
   "cell_type": "markdown",
   "id": "4e407fab",
   "metadata": {},
   "source": [
    "Attach boundary conditions to the nodes with the following commands:"
   ]
  },
  {
   "cell_type": "code",
   "execution_count": null,
   "id": "5b20b0a9",
   "metadata": {},
   "outputs": [],
   "source": [
    "circuit1.add_BC(\"bc1\",\"node1\",'msource',104.1)\n",
    "circuit1.add_BC(\"bc2\",\"node9\",'msource',-37.85)\n",
    "circuit1.add_BC(\"bc3\",\"node6\",'msource',-25.24)\n",
    "circuit1.add_BC(\"bc4\",\"node5\",'msource',34.7)\n",
    "circuit1.add_BC(\"bc5\",\"node4\",'msource',-31.55)\n",
    "circuit1.add_BC(\"bc6\",\"node11\",'P',1.E5)"
   ]
  },
  {
   "cell_type": "markdown",
   "id": "c62881d9",
   "metadata": {},
   "source": [
    "Note that a negative mass source implies a mass sink from the node. "
   ]
  },
  {
   "cell_type": "markdown",
   "id": "e4baefc5",
   "metadata": {},
   "source": [
    "Export the geometry"
   ]
  },
  {
   "cell_type": "code",
   "execution_count": null,
   "id": "73c85a5b",
   "metadata": {},
   "outputs": [],
   "source": [
    "geometry = opensd.Geometry([circuit1])\n",
    "geometry.export_to_xml()"
   ]
  },
  {
   "cell_type": "markdown",
   "id": "ef540d02",
   "metadata": {},
   "source": [
    "Export the settings"
   ]
  },
  {
   "cell_type": "code",
   "execution_count": null,
   "id": "bfa9c346",
   "metadata": {},
   "outputs": [],
   "source": [
    "settings = opensd.Settings()\n",
    "settings.export_to_xml()"
   ]
  },
  {
   "cell_type": "markdown",
   "id": "aba7f5b7",
   "metadata": {},
   "source": [
    "Run the code"
   ]
  },
  {
   "cell_type": "code",
   "execution_count": null,
   "id": "44eba62b",
   "metadata": {},
   "outputs": [],
   "source": [
    "opensd.run(opensd_exec='../../build/opensd')"
   ]
  },
  {
   "cell_type": "markdown",
   "id": "48b7dc5f",
   "metadata": {},
   "source": [
    "## Results\n",
    "Verify the nodal pressures and the element flow rates obtained from the simulation are same as those given in Table 1 and Table 2, respectively."
   ]
  },
  {
   "cell_type": "markdown",
   "id": "1185aa4d",
   "metadata": {},
   "source": [
    "<tablecaption align = \"center\"> Table 1: Nodal Pressure Values (bar) </tablecaption>\n",
    "\n",
    "| Node no. | 1      | 2      | 3      | 4      | 5      | 6      | 7      | 8      | 9      | 10     | 11     | 12     |\n",
    "| -------- | ------ | ------ | ------ | ------ | ------ | ------ | ------ | ------ | ------ | ------ | ------ | ------ |\n",
    "| PINET    | 1.4386 | 1.3323 | 1.0463 | 0.9773 | 1.0183 | 0.9711 | 1.0043 | 1.0415 | 1.0780 | 1.0909 | 1.0000 | 1.0036 |"
   ]
  },
  {
   "cell_type": "markdown",
   "id": "4ae1adf1",
   "metadata": {},
   "source": [
    "<tablecaption align = \"center\"> Table 2: Element Volumetric Flow Rate Values (l/s) </tablecaption>\n",
    "\n",
    "| Element | 1     | 2     | 3     | 4      | 5      | 6     | 7     | 8    | 9     | 11   | 12     | 13      | 14   | 15    | 16     | 17    | 18   | 19     | 10     |\n",
    "| ------- | ----- | ----- | ----- | ------ | ------ | ----- | ----- | ---- | ----- | ---- | ------ | ------- | ---- | ----- | ------ | ----- | ---- | ------ | ------ |\n",
    "| PINET   | 60.66 | 44.15 | 17.15 | \\-9.83 | \\-8.84 | 12.11 | 13.55 | 8.17 | 43.44 | 8.55 | \\-7.17 | \\-16.03 | 5.37 | 16.51 | \\-1.44 | 27.00 | 4.29 | \\-4.57 | \\-2.59 |"
   ]
  }
 ],
 "metadata": {
  "kernelspec": {
   "display_name": "Python 3 (ipykernel)",
   "language": "python",
   "name": "python3"
  },
  "language_info": {
   "codemirror_mode": {
    "name": "ipython",
    "version": 3
   },
   "file_extension": ".py",
   "mimetype": "text/x-python",
   "name": "python",
   "nbconvert_exporter": "python",
   "pygments_lexer": "ipython3",
   "version": "3.11.7"
  }
 },
 "nbformat": 4,
 "nbformat_minor": 5
}
